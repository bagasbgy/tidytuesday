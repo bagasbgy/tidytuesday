{
 "cells": [
  {
   "cell_type": "markdown",
   "metadata": {},
   "source": [
    "# TidyTuesday 2019-01-29"
   ]
  },
  {
   "cell_type": "markdown",
   "metadata": {},
   "source": [
    "This is my take on TidyTuesday 2019 Week 5: **Dairy Production & Consumption in US**. In this notebook, I will try to estimate the price elasticity of demand for milk product using regression model."
   ]
  },
  {
   "cell_type": "markdown",
   "metadata": {},
   "source": [
    "## Problem Outline"
   ]
  },
  {
   "cell_type": "markdown",
   "metadata": {},
   "source": [
    "Price elasticity of demand is a measurement of how much the decrease in the demanded quantity of a product if the price of that product is increased. In a simplified manners, we can write the elasticity as:"
   ]
  },
  {
   "cell_type": "markdown",
   "metadata": {},
   "source": [
    "$$Price \\space Elasticity \\space of \\space Demand = \\frac{\\Delta{Q}}{\\Delta{P}}$$"
   ]
  },
  {
   "cell_type": "markdown",
   "metadata": {},
   "source": [
    "Where:\n",
    "\n",
    "- $\\Delta{Q}$: Percentage change of demanded quantity\n",
    "- $\\Delta{P}$: Percentage change of price"
   ]
  },
  {
   "cell_type": "markdown",
   "metadata": {},
   "source": [
    "Since the change of demanded quantity of a product is influenced by various factors, we can estimate the elasticity using a linear regression model as below:"
   ]
  },
  {
   "cell_type": "markdown",
   "metadata": {},
   "source": [
    "$$log{Q}=\\hat{\\beta_{0}}+\\hat{\\beta_{1}}{log{P}}+\\varepsilon$$"
   ]
  },
  {
   "cell_type": "markdown",
   "metadata": {},
   "source": [
    "Log transformation in the model is crutial for the estimation; through log transformation, we can interpret the 1% increase in $P$ as $\\hat{\\beta_{1}}$% decrease in $Q$. Assuming that $\\beta_{1}$ is negative, we can connect this model with price elasticity of demand formula as below:"
   ]
  },
  {
   "cell_type": "markdown",
   "metadata": {},
   "source": [
    "$$Price \\space Elasticity \\space of \\space Demand = -\\beta_{1} = \\frac{\\Delta{Q}}{\\Delta{P}}$$"
   ]
  },
  {
   "cell_type": "markdown",
   "metadata": {},
   "source": [
    "## Codes"
   ]
  },
  {
   "cell_type": "markdown",
   "metadata": {},
   "source": [
    "In this section, I will explain the step-by-step code and procedure used to estimate the elasticity."
   ]
  },
  {
   "cell_type": "markdown",
   "metadata": {},
   "source": [
    "### Environment setup"
   ]
  },
  {
   "cell_type": "markdown",
   "metadata": {},
   "source": [
    "All of used modules and global settings are defined in the cell below:"
   ]
  },
  {
   "cell_type": "code",
   "execution_count": 1,
   "metadata": {},
   "outputs": [],
   "source": [
    "import os\n",
    "\n",
    "import matplotlib.pyplot as plt\n",
    "import matplotlib.ticker as ticker\n",
    "import numpy as np\n",
    "import pandas as pd\n",
    "import statsmodels.api as sm\n",
    "from sklearn.metrics import mean_squared_error\n",
    "\n",
    "\n",
    "plt.style.use('fivethirtyeight')\n",
    "plt.rcParams.update({\n",
    "    'figure.figsize': (8, 5),\n",
    "    'figure.subplot.hspace': 0.5,\n",
    "    'figure.titlesize': 'large',\n",
    "    'axes.titlesize': 'medium',\n",
    "    'axes.labelsize': 'small',\n",
    "    'xtick.labelsize': 'xx-small',\n",
    "    'ytick.labelsize': 'xx-small',\n",
    "})"
   ]
  },
  {
   "cell_type": "markdown",
   "metadata": {},
   "source": [
    "### Dataset"
   ]
  },
  {
   "cell_type": "markdown",
   "metadata": {},
   "source": [
    "From this particular week's data, I will use the [`milkcow_facts.csv`](https://raw.githubusercontent.com/rfordatascience/tidytuesday/master/data/2019/2019-01-29/milkcow_facts.csv) data as the main dataset to estimate the elasticity. Let's take a quick look on the dataset:"
   ]
  },
  {
   "cell_type": "code",
   "execution_count": 2,
   "metadata": {},
   "outputs": [
    {
     "data": {
      "text/html": [
       "<div>\n",
       "<style scoped>\n",
       "    .dataframe tbody tr th:only-of-type {\n",
       "        vertical-align: middle;\n",
       "    }\n",
       "\n",
       "    .dataframe tbody tr th {\n",
       "        vertical-align: top;\n",
       "    }\n",
       "\n",
       "    .dataframe thead th {\n",
       "        text-align: right;\n",
       "    }\n",
       "</style>\n",
       "<table border=\"1\" class=\"dataframe\">\n",
       "  <thead>\n",
       "    <tr style=\"text-align: right;\">\n",
       "      <th></th>\n",
       "      <th>year</th>\n",
       "      <th>avg_milk_cow_number</th>\n",
       "      <th>milk_per_cow</th>\n",
       "      <th>milk_production_lbs</th>\n",
       "      <th>avg_price_milk</th>\n",
       "      <th>dairy_ration</th>\n",
       "      <th>milk_feed_price_ratio</th>\n",
       "      <th>milk_cow_cost_per_animal</th>\n",
       "      <th>milk_volume_to_buy_cow_in_lbs</th>\n",
       "      <th>alfalfa_hay_price</th>\n",
       "      <th>slaughter_cow_price</th>\n",
       "    </tr>\n",
       "  </thead>\n",
       "  <tbody>\n",
       "    <tr>\n",
       "      <th>0</th>\n",
       "      <td>1980.0</td>\n",
       "      <td>10799000.0</td>\n",
       "      <td>11891</td>\n",
       "      <td>1.284060e+11</td>\n",
       "      <td>0.130</td>\n",
       "      <td>0.048374</td>\n",
       "      <td>2.717149</td>\n",
       "      <td>1190</td>\n",
       "      <td>9153.846154</td>\n",
       "      <td>72.000000</td>\n",
       "      <td>0.4573</td>\n",
       "    </tr>\n",
       "    <tr>\n",
       "      <th>1</th>\n",
       "      <td>1981.0</td>\n",
       "      <td>10898000.0</td>\n",
       "      <td>12183</td>\n",
       "      <td>1.327700e+11</td>\n",
       "      <td>0.138</td>\n",
       "      <td>0.050352</td>\n",
       "      <td>2.759031</td>\n",
       "      <td>1200</td>\n",
       "      <td>8695.652174</td>\n",
       "      <td>70.900000</td>\n",
       "      <td>0.4193</td>\n",
       "    </tr>\n",
       "    <tr>\n",
       "      <th>2</th>\n",
       "      <td>1982.0</td>\n",
       "      <td>11011000.0</td>\n",
       "      <td>12306</td>\n",
       "      <td>1.355050e+11</td>\n",
       "      <td>0.136</td>\n",
       "      <td>0.044221</td>\n",
       "      <td>3.088127</td>\n",
       "      <td>1110</td>\n",
       "      <td>8161.764706</td>\n",
       "      <td>72.733333</td>\n",
       "      <td>0.3996</td>\n",
       "    </tr>\n",
       "    <tr>\n",
       "      <th>3</th>\n",
       "      <td>1983.0</td>\n",
       "      <td>11059000.0</td>\n",
       "      <td>12622</td>\n",
       "      <td>1.395880e+11</td>\n",
       "      <td>0.136</td>\n",
       "      <td>0.052350</td>\n",
       "      <td>2.609620</td>\n",
       "      <td>1030</td>\n",
       "      <td>7573.529412</td>\n",
       "      <td>78.700000</td>\n",
       "      <td>0.3935</td>\n",
       "    </tr>\n",
       "    <tr>\n",
       "      <th>4</th>\n",
       "      <td>1984.0</td>\n",
       "      <td>10793000.0</td>\n",
       "      <td>12541</td>\n",
       "      <td>1.353510e+11</td>\n",
       "      <td>0.135</td>\n",
       "      <td>0.053388</td>\n",
       "      <td>2.540000</td>\n",
       "      <td>895</td>\n",
       "      <td>6629.629630</td>\n",
       "      <td>79.483333</td>\n",
       "      <td>0.3981</td>\n",
       "    </tr>\n",
       "  </tbody>\n",
       "</table>\n",
       "</div>"
      ],
      "text/plain": [
       "     year  avg_milk_cow_number  milk_per_cow  milk_production_lbs  \\\n",
       "0  1980.0           10799000.0         11891         1.284060e+11   \n",
       "1  1981.0           10898000.0         12183         1.327700e+11   \n",
       "2  1982.0           11011000.0         12306         1.355050e+11   \n",
       "3  1983.0           11059000.0         12622         1.395880e+11   \n",
       "4  1984.0           10793000.0         12541         1.353510e+11   \n",
       "\n",
       "   avg_price_milk  dairy_ration  milk_feed_price_ratio  \\\n",
       "0           0.130      0.048374               2.717149   \n",
       "1           0.138      0.050352               2.759031   \n",
       "2           0.136      0.044221               3.088127   \n",
       "3           0.136      0.052350               2.609620   \n",
       "4           0.135      0.053388               2.540000   \n",
       "\n",
       "   milk_cow_cost_per_animal  milk_volume_to_buy_cow_in_lbs  alfalfa_hay_price  \\\n",
       "0                      1190                    9153.846154          72.000000   \n",
       "1                      1200                    8695.652174          70.900000   \n",
       "2                      1110                    8161.764706          72.733333   \n",
       "3                      1030                    7573.529412          78.700000   \n",
       "4                       895                    6629.629630          79.483333   \n",
       "\n",
       "   slaughter_cow_price  \n",
       "0               0.4573  \n",
       "1               0.4193  \n",
       "2               0.3996  \n",
       "3               0.3935  \n",
       "4               0.3981  "
      ]
     },
     "execution_count": 2,
     "metadata": {},
     "output_type": "execute_result"
    }
   ],
   "source": [
    "data = pd.read_csv(os.path.join('..', 'data', 'processed', 'milkcow_facts.csv'))\n",
    "\n",
    "data.head()"
   ]
  },
  {
   "cell_type": "code",
   "execution_count": 3,
   "metadata": {},
   "outputs": [
    {
     "name": "stdout",
     "output_type": "stream",
     "text": [
      "<class 'pandas.core.frame.DataFrame'>\n",
      "RangeIndex: 35 entries, 0 to 34\n",
      "Data columns (total 11 columns):\n",
      " #   Column                         Non-Null Count  Dtype  \n",
      "---  ------                         --------------  -----  \n",
      " 0   year                           35 non-null     float64\n",
      " 1   avg_milk_cow_number            35 non-null     float64\n",
      " 2   milk_per_cow                   35 non-null     int64  \n",
      " 3   milk_production_lbs            35 non-null     float64\n",
      " 4   avg_price_milk                 35 non-null     float64\n",
      " 5   dairy_ration                   35 non-null     float64\n",
      " 6   milk_feed_price_ratio          35 non-null     float64\n",
      " 7   milk_cow_cost_per_animal       35 non-null     int64  \n",
      " 8   milk_volume_to_buy_cow_in_lbs  35 non-null     float64\n",
      " 9   alfalfa_hay_price              35 non-null     float64\n",
      " 10  slaughter_cow_price            35 non-null     float64\n",
      "dtypes: float64(9), int64(2)\n",
      "memory usage: 3.1 KB\n"
     ]
    }
   ],
   "source": [
    "data.info()"
   ]
  },
  {
   "cell_type": "markdown",
   "metadata": {},
   "source": [
    "For price and quantity variables, we will use `avg_milk_cow_number` and `avg_price_milk`, respectively."
   ]
  },
  {
   "cell_type": "markdown",
   "metadata": {},
   "source": [
    "#### Data cleansing"
   ]
  },
  {
   "cell_type": "markdown",
   "metadata": {},
   "source": [
    "There's not much room for data cleansing, since the data itself can be considered clean already. In this part, I will only change the data type of `year` variable for the sake of better visualizations in Exploratory Data Analysis (EDA) part."
   ]
  },
  {
   "cell_type": "code",
   "execution_count": 4,
   "metadata": {},
   "outputs": [
    {
     "data": {
      "text/html": [
       "<div>\n",
       "<style scoped>\n",
       "    .dataframe tbody tr th:only-of-type {\n",
       "        vertical-align: middle;\n",
       "    }\n",
       "\n",
       "    .dataframe tbody tr th {\n",
       "        vertical-align: top;\n",
       "    }\n",
       "\n",
       "    .dataframe thead th {\n",
       "        text-align: right;\n",
       "    }\n",
       "</style>\n",
       "<table border=\"1\" class=\"dataframe\">\n",
       "  <thead>\n",
       "    <tr style=\"text-align: right;\">\n",
       "      <th></th>\n",
       "      <th>year</th>\n",
       "      <th>avg_milk_cow_number</th>\n",
       "      <th>milk_per_cow</th>\n",
       "      <th>milk_production_lbs</th>\n",
       "      <th>avg_price_milk</th>\n",
       "      <th>dairy_ration</th>\n",
       "      <th>milk_feed_price_ratio</th>\n",
       "      <th>milk_cow_cost_per_animal</th>\n",
       "      <th>milk_volume_to_buy_cow_in_lbs</th>\n",
       "      <th>alfalfa_hay_price</th>\n",
       "      <th>slaughter_cow_price</th>\n",
       "    </tr>\n",
       "  </thead>\n",
       "  <tbody>\n",
       "    <tr>\n",
       "      <th>0</th>\n",
       "      <td>1980</td>\n",
       "      <td>10799000.0</td>\n",
       "      <td>11891</td>\n",
       "      <td>1.284060e+11</td>\n",
       "      <td>0.130</td>\n",
       "      <td>0.048374</td>\n",
       "      <td>2.717149</td>\n",
       "      <td>1190</td>\n",
       "      <td>9153.846154</td>\n",
       "      <td>72.000000</td>\n",
       "      <td>0.4573</td>\n",
       "    </tr>\n",
       "    <tr>\n",
       "      <th>1</th>\n",
       "      <td>1981</td>\n",
       "      <td>10898000.0</td>\n",
       "      <td>12183</td>\n",
       "      <td>1.327700e+11</td>\n",
       "      <td>0.138</td>\n",
       "      <td>0.050352</td>\n",
       "      <td>2.759031</td>\n",
       "      <td>1200</td>\n",
       "      <td>8695.652174</td>\n",
       "      <td>70.900000</td>\n",
       "      <td>0.4193</td>\n",
       "    </tr>\n",
       "    <tr>\n",
       "      <th>2</th>\n",
       "      <td>1982</td>\n",
       "      <td>11011000.0</td>\n",
       "      <td>12306</td>\n",
       "      <td>1.355050e+11</td>\n",
       "      <td>0.136</td>\n",
       "      <td>0.044221</td>\n",
       "      <td>3.088127</td>\n",
       "      <td>1110</td>\n",
       "      <td>8161.764706</td>\n",
       "      <td>72.733333</td>\n",
       "      <td>0.3996</td>\n",
       "    </tr>\n",
       "    <tr>\n",
       "      <th>3</th>\n",
       "      <td>1983</td>\n",
       "      <td>11059000.0</td>\n",
       "      <td>12622</td>\n",
       "      <td>1.395880e+11</td>\n",
       "      <td>0.136</td>\n",
       "      <td>0.052350</td>\n",
       "      <td>2.609620</td>\n",
       "      <td>1030</td>\n",
       "      <td>7573.529412</td>\n",
       "      <td>78.700000</td>\n",
       "      <td>0.3935</td>\n",
       "    </tr>\n",
       "    <tr>\n",
       "      <th>4</th>\n",
       "      <td>1984</td>\n",
       "      <td>10793000.0</td>\n",
       "      <td>12541</td>\n",
       "      <td>1.353510e+11</td>\n",
       "      <td>0.135</td>\n",
       "      <td>0.053388</td>\n",
       "      <td>2.540000</td>\n",
       "      <td>895</td>\n",
       "      <td>6629.629630</td>\n",
       "      <td>79.483333</td>\n",
       "      <td>0.3981</td>\n",
       "    </tr>\n",
       "  </tbody>\n",
       "</table>\n",
       "</div>"
      ],
      "text/plain": [
       "   year  avg_milk_cow_number  milk_per_cow  milk_production_lbs  \\\n",
       "0  1980           10799000.0         11891         1.284060e+11   \n",
       "1  1981           10898000.0         12183         1.327700e+11   \n",
       "2  1982           11011000.0         12306         1.355050e+11   \n",
       "3  1983           11059000.0         12622         1.395880e+11   \n",
       "4  1984           10793000.0         12541         1.353510e+11   \n",
       "\n",
       "   avg_price_milk  dairy_ration  milk_feed_price_ratio  \\\n",
       "0           0.130      0.048374               2.717149   \n",
       "1           0.138      0.050352               2.759031   \n",
       "2           0.136      0.044221               3.088127   \n",
       "3           0.136      0.052350               2.609620   \n",
       "4           0.135      0.053388               2.540000   \n",
       "\n",
       "   milk_cow_cost_per_animal  milk_volume_to_buy_cow_in_lbs  alfalfa_hay_price  \\\n",
       "0                      1190                    9153.846154          72.000000   \n",
       "1                      1200                    8695.652174          70.900000   \n",
       "2                      1110                    8161.764706          72.733333   \n",
       "3                      1030                    7573.529412          78.700000   \n",
       "4                       895                    6629.629630          79.483333   \n",
       "\n",
       "   slaughter_cow_price  \n",
       "0               0.4573  \n",
       "1               0.4193  \n",
       "2               0.3996  \n",
       "3               0.3935  \n",
       "4               0.3981  "
      ]
     },
     "execution_count": 4,
     "metadata": {},
     "output_type": "execute_result"
    }
   ],
   "source": [
    "data['year'] = data['year'].map(int)\n",
    "\n",
    "data.head()"
   ]
  },
  {
   "cell_type": "markdown",
   "metadata": {},
   "source": [
    "### Exploratory Data Analysis"
   ]
  },
  {
   "cell_type": "markdown",
   "metadata": {},
   "source": [
    "First of all, let's take a quick look on relation between `avg_milk_cow_number` and `avg_price_milk` in our sample:"
   ]
  },
  {
   "cell_type": "code",
   "execution_count": 5,
   "metadata": {},
   "outputs": [
    {
     "data": {
      "image/png": "[encoded data removed]",
      "text/plain": [
       "<Figure size 576x360 with 1 Axes>"
      ]
     },
     "metadata": {},
     "output_type": "display_data"
    }
   ],
   "source": [
    "years = data['year'].tolist()\n",
    "year_min = min(years)\n",
    "year_max = max(years)\n",
    "\n",
    "\n",
    "fig, ax = plt.subplots(1, 1)\n",
    "\n",
    "ax.scatter(data['avg_price_milk'], data['avg_milk_cow_number'])\n",
    "ax.set_xlabel('Price')\n",
    "ax.xaxis.set_major_formatter(ticker.StrMethodFormatter('${x:,.2f}'))\n",
    "ax.set_ylabel('Consumption')\n",
    "ax.yaxis.set_major_formatter(ticker.EngFormatter())\n",
    "ax.set_title(f'Milk Price and Consumption {year_min}-{year_max}', loc='left')\n",
    "\n",
    "\n",
    "plt.show()"
   ]
  },
  {
   "cell_type": "markdown",
   "metadata": {},
   "source": [
    "From visualization above, we can slightly see that there is a negative correlation between `avg_milk_cow_number` and `avg_price_milk`."
   ]
  },
  {
   "cell_type": "code",
   "execution_count": 6,
   "metadata": {},
   "outputs": [
    {
     "data": {
      "image/png": "[encoded data removed]",
      "text/plain": [
       "<Figure size 576x360 with 1 Axes>"
      ]
     },
     "metadata": {},
     "output_type": "display_data"
    }
   ],
   "source": [
    "fig, ax = plt.subplots(1, 1)\n",
    "\n",
    "ax.hist(data['avg_milk_cow_number'])\n",
    "ax.set_xlabel('Consumption')\n",
    "ax.xaxis.set_major_formatter(ticker.EngFormatter())\n",
    "ax.set_title('Milk Consumption Distribution', loc='left')\n",
    "\n",
    "\n",
    "plt.show()"
   ]
  },
  {
   "cell_type": "code",
   "execution_count": 7,
   "metadata": {},
   "outputs": [
    {
     "data": {
      "image/png": "[encoded data removed]",
      "text/plain": [
       "<Figure size 576x504 with 2 Axes>"
      ]
     },
     "metadata": {},
     "output_type": "display_data"
    }
   ],
   "source": [
    "data_viz = data.copy()\n",
    "data_viz['avg_milk_cow_number_ln'] = data_viz['avg_milk_cow_number'].map(lambda x: np.log(x))\n",
    "\n",
    "\n",
    "fig, axs = plt.subplots(2, 1, figsize=(8, 7))\n",
    "\n",
    "axs[0].hist(data['avg_milk_cow_number'])\n",
    "axs[0].set_xlabel('Consumption')\n",
    "axs[0].xaxis.set_major_formatter(ticker.EngFormatter())\n",
    "\n",
    "axs[1].hist(data_viz['avg_milk_cow_number_ln'])\n",
    "axs[1].set_xlabel('Consumption (in Log)')\n",
    "\n",
    "fig.suptitle('Milk Consumption Distribution')\n",
    "\n",
    "\n",
    "plt.show()"
   ]
  },
  {
   "cell_type": "code",
   "execution_count": 8,
   "metadata": {},
   "outputs": [
    {
     "data": {
      "image/png": "[encoded data removed]",
      "text/plain": [
       "<Figure size 576x360 with 1 Axes>"
      ]
     },
     "metadata": {},
     "output_type": "display_data"
    }
   ],
   "source": [
    "data_viz['avg_price_milk_ln'] = data_viz['avg_price_milk'].map(lambda x: np.log(x))\n",
    "\n",
    "\n",
    "fig, ax = plt.subplots(1, 1)\n",
    "\n",
    "ax.scatter(data_viz['avg_price_milk_ln'], data_viz['avg_milk_cow_number_ln'])\n",
    "ax.set_xlabel('Price (in Log)')\n",
    "ax.set_ylabel('Consumption (in Log)')\n",
    "ax.set_title(f'Milk Price and Consumption {year_min}-{year_max}', loc='left')\n",
    "\n",
    "\n",
    "plt.show()"
   ]
  },
  {
   "cell_type": "markdown",
   "metadata": {},
   "source": [
    "### Model"
   ]
  },
  {
   "cell_type": "markdown",
   "metadata": {},
   "source": [
    "#### Data Preprocess"
   ]
  },
  {
   "cell_type": "code",
   "execution_count": 9,
   "metadata": {},
   "outputs": [
    {
     "data": {
      "text/html": [
       "<div>\n",
       "<style scoped>\n",
       "    .dataframe tbody tr th:only-of-type {\n",
       "        vertical-align: middle;\n",
       "    }\n",
       "\n",
       "    .dataframe tbody tr th {\n",
       "        vertical-align: top;\n",
       "    }\n",
       "\n",
       "    .dataframe thead th {\n",
       "        text-align: right;\n",
       "    }\n",
       "</style>\n",
       "<table border=\"1\" class=\"dataframe\">\n",
       "  <thead>\n",
       "    <tr style=\"text-align: right;\">\n",
       "      <th></th>\n",
       "      <th>avg_milk_cow_number_ln</th>\n",
       "      <th>avg_price_milk_ln</th>\n",
       "    </tr>\n",
       "  </thead>\n",
       "  <tbody>\n",
       "    <tr>\n",
       "      <th>0</th>\n",
       "      <td>16.194964</td>\n",
       "      <td>-2.040221</td>\n",
       "    </tr>\n",
       "    <tr>\n",
       "      <th>1</th>\n",
       "      <td>16.204090</td>\n",
       "      <td>-1.980502</td>\n",
       "    </tr>\n",
       "    <tr>\n",
       "      <th>2</th>\n",
       "      <td>16.214405</td>\n",
       "      <td>-1.995100</td>\n",
       "    </tr>\n",
       "    <tr>\n",
       "      <th>3</th>\n",
       "      <td>16.218755</td>\n",
       "      <td>-1.995100</td>\n",
       "    </tr>\n",
       "    <tr>\n",
       "      <th>4</th>\n",
       "      <td>16.194408</td>\n",
       "      <td>-2.002481</td>\n",
       "    </tr>\n",
       "  </tbody>\n",
       "</table>\n",
       "</div>"
      ],
      "text/plain": [
       "   avg_milk_cow_number_ln  avg_price_milk_ln\n",
       "0               16.194964          -2.040221\n",
       "1               16.204090          -1.980502\n",
       "2               16.214405          -1.995100\n",
       "3               16.218755          -1.995100\n",
       "4               16.194408          -2.002481"
      ]
     },
     "execution_count": 9,
     "metadata": {},
     "output_type": "execute_result"
    }
   ],
   "source": [
    "data_train = data.copy()\n",
    "\n",
    "data_train['avg_milk_cow_number_ln'] = data_train['avg_milk_cow_number'].map(lambda x: np.log(x))\n",
    "data_train['avg_price_milk_ln'] = data_train['avg_price_milk'].map(lambda x: np.log(x))\n",
    "data_train = data_train[['avg_milk_cow_number_ln', 'avg_price_milk_ln']]\n",
    "\n",
    "data_train.head()"
   ]
  },
  {
   "cell_type": "code",
   "execution_count": 10,
   "metadata": {},
   "outputs": [],
   "source": [
    "x_columns = ['avg_price_milk_ln']\n",
    "y_column = ['avg_milk_cow_number_ln']\n",
    "\n",
    "x_train = sm.add_constant(data_train[x_columns])\n",
    "y_train = data_train[y_column]"
   ]
  },
  {
   "cell_type": "markdown",
   "metadata": {},
   "source": [
    "#### Model Fitting"
   ]
  },
  {
   "cell_type": "code",
   "execution_count": 11,
   "metadata": {},
   "outputs": [
    {
     "data": {
      "text/html": [
       "<table class=\"simpletable\">\n",
       "<caption>OLS Regression Results</caption>\n",
       "<tr>\n",
       "  <th>Dep. Variable:</th>    <td>avg_milk_cow_number_ln</td> <th>  R-squared:         </th> <td>   0.157</td>\n",
       "</tr>\n",
       "<tr>\n",
       "  <th>Model:</th>                      <td>OLS</td>          <th>  Adj. R-squared:    </th> <td>   0.131</td>\n",
       "</tr>\n",
       "<tr>\n",
       "  <th>Method:</th>                <td>Least Squares</td>     <th>  F-statistic:       </th> <td>   6.130</td>\n",
       "</tr>\n",
       "<tr>\n",
       "  <th>Date:</th>                <td>Sun, 27 Mar 2022</td>    <th>  Prob (F-statistic):</th>  <td>0.0186</td> \n",
       "</tr>\n",
       "<tr>\n",
       "  <th>Time:</th>                    <td>12:47:18</td>        <th>  Log-Likelihood:    </th> <td>  46.981</td>\n",
       "</tr>\n",
       "<tr>\n",
       "  <th>No. Observations:</th>         <td>    35</td>         <th>  AIC:               </th> <td>  -89.96</td>\n",
       "</tr>\n",
       "<tr>\n",
       "  <th>Df Residuals:</th>             <td>    33</td>         <th>  BIC:               </th> <td>  -86.85</td>\n",
       "</tr>\n",
       "<tr>\n",
       "  <th>Df Model:</th>                 <td>     1</td>         <th>                     </th>     <td> </td>   \n",
       "</tr>\n",
       "<tr>\n",
       "  <th>Covariance Type:</th>         <td>nonrobust</td>       <th>                     </th>     <td> </td>   \n",
       "</tr>\n",
       "</table>\n",
       "<table class=\"simpletable\">\n",
       "<tr>\n",
       "          <td></td>             <th>coef</th>     <th>std err</th>      <th>t</th>      <th>P>|t|</th>  <th>[0.025</th>    <th>0.975]</th>  \n",
       "</tr>\n",
       "<tr>\n",
       "  <th>const</th>             <td>   15.7751</td> <td>    0.126</td> <td>  125.641</td> <td> 0.000</td> <td>   15.520</td> <td>   16.031</td>\n",
       "</tr>\n",
       "<tr>\n",
       "  <th>avg_price_milk_ln</th> <td>   -0.1598</td> <td>    0.065</td> <td>   -2.476</td> <td> 0.019</td> <td>   -0.291</td> <td>   -0.028</td>\n",
       "</tr>\n",
       "</table>\n",
       "<table class=\"simpletable\">\n",
       "<tr>\n",
       "  <th>Omnibus:</th>       <td> 3.882</td> <th>  Durbin-Watson:     </th> <td>   0.166</td>\n",
       "</tr>\n",
       "<tr>\n",
       "  <th>Prob(Omnibus):</th> <td> 0.144</td> <th>  Jarque-Bera (JB):  </th> <td>   3.115</td>\n",
       "</tr>\n",
       "<tr>\n",
       "  <th>Skew:</th>          <td> 0.612</td> <th>  Prob(JB):          </th> <td>   0.211</td>\n",
       "</tr>\n",
       "<tr>\n",
       "  <th>Kurtosis:</th>      <td> 2.201</td> <th>  Cond. No.          </th> <td>    28.0</td>\n",
       "</tr>\n",
       "</table><br/><br/>Notes:<br/>[1] Standard Errors assume that the covariance matrix of the errors is correctly specified."
      ],
      "text/plain": [
       "<class 'statsmodels.iolib.summary.Summary'>\n",
       "\"\"\"\n",
       "                              OLS Regression Results                              \n",
       "==================================================================================\n",
       "Dep. Variable:     avg_milk_cow_number_ln   R-squared:                       0.157\n",
       "Model:                                OLS   Adj. R-squared:                  0.131\n",
       "Method:                     Least Squares   F-statistic:                     6.130\n",
       "Date:                    Sun, 27 Mar 2022   Prob (F-statistic):             0.0186\n",
       "Time:                            12:47:18   Log-Likelihood:                 46.981\n",
       "No. Observations:                      35   AIC:                            -89.96\n",
       "Df Residuals:                          33   BIC:                            -86.85\n",
       "Df Model:                               1                                         \n",
       "Covariance Type:                nonrobust                                         \n",
       "=====================================================================================\n",
       "                        coef    std err          t      P>|t|      [0.025      0.975]\n",
       "-------------------------------------------------------------------------------------\n",
       "const                15.7751      0.126    125.641      0.000      15.520      16.031\n",
       "avg_price_milk_ln    -0.1598      0.065     -2.476      0.019      -0.291      -0.028\n",
       "==============================================================================\n",
       "Omnibus:                        3.882   Durbin-Watson:                   0.166\n",
       "Prob(Omnibus):                  0.144   Jarque-Bera (JB):                3.115\n",
       "Skew:                           0.612   Prob(JB):                        0.211\n",
       "Kurtosis:                       2.201   Cond. No.                         28.0\n",
       "==============================================================================\n",
       "\n",
       "Notes:\n",
       "[1] Standard Errors assume that the covariance matrix of the errors is correctly specified.\n",
       "\"\"\""
      ]
     },
     "execution_count": 11,
     "metadata": {},
     "output_type": "execute_result"
    }
   ],
   "source": [
    "model = sm.OLS(y_train, x_train).fit()\n",
    "model_coefs = dict(model.params)\n",
    "\n",
    "model.summary()"
   ]
  },
  {
   "cell_type": "markdown",
   "metadata": {},
   "source": [
    "#### Model Evaluation"
   ]
  },
  {
   "cell_type": "code",
   "execution_count": 12,
   "metadata": {},
   "outputs": [
    {
     "data": {
      "text/plain": [
       "632009.241076186"
      ]
     },
     "execution_count": 12,
     "metadata": {},
     "output_type": "execute_result"
    }
   ],
   "source": [
    "y_train_pred = model.predict(x_train)\n",
    "\n",
    "\n",
    "error = mean_squared_error(np.exp(y_train), np.exp(y_train_pred), squared=False)\n",
    "\n",
    "error"
   ]
  },
  {
   "cell_type": "code",
   "execution_count": 13,
   "metadata": {},
   "outputs": [
    {
     "data": {
      "image/png": "[encoded data removed]",
      "text/plain": [
       "<Figure size 576x360 with 1 Axes>"
      ]
     },
     "metadata": {},
     "output_type": "display_data"
    }
   ],
   "source": [
    "xseq = np.linspace(\n",
    "    start=data_train['avg_price_milk_ln'].min(),\n",
    "    stop=data_train['avg_price_milk_ln'].max(),\n",
    "    num=100,\n",
    ")\n",
    "\n",
    "fig, ax = plt.subplots(1, 1)\n",
    "\n",
    "ax.scatter(data['avg_price_milk'], data['avg_milk_cow_number'])\n",
    "ax.plot(\n",
    "    np.exp(xseq),\n",
    "    np.exp(model_coefs['const'] + model_coefs['avg_price_milk_ln'] * xseq),\n",
    "    color='black',\n",
    "    linewidth=1,\n",
    "    linestyle='dashed',\n",
    ")\n",
    "ax.set_xlabel('Price')\n",
    "ax.xaxis.set_major_formatter(ticker.StrMethodFormatter('${x:,.2f}'))\n",
    "ax.set_ylabel('Consumption')\n",
    "ax.yaxis.set_major_formatter(ticker.EngFormatter())\n",
    "ax.set_title(f'Milk Price and Consumption {year_min}-{year_max}', loc='left')\n",
    "\n",
    "\n",
    "plt.show()"
   ]
  }
 ],
 "metadata": {
  "interpreter": {
   "hash": "3fd0ca9efaa8cb8740823c23407050ddef0aab3a29ee52edb559a817bb803e22"
  },
  "kernelspec": {
   "display_name": "Python 3.8.12 ('tidytuesday_2019-01-29')",
   "language": "python",
   "name": "python3"
  },
  "language_info": {
   "codemirror_mode": {
    "name": "ipython",
    "version": 3
   },
   "file_extension": ".py",
   "mimetype": "text/x-python",
   "name": "python",
   "nbconvert_exporter": "python",
   "pygments_lexer": "ipython3",
   "version": "3.8.12"
  },
  "orig_nbformat": 4
 },
 "nbformat": 4,
 "nbformat_minor": 2
}
