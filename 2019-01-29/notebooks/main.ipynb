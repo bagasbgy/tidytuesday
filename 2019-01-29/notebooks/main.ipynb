{
 "cells": [
  {
   "cell_type": "markdown",
   "metadata": {},
   "source": [
    "# TidyTuesday 2019-01-29"
   ]
  },
  {
   "cell_type": "code",
   "execution_count": 275,
   "metadata": {},
   "outputs": [],
   "source": [
    "import os\n",
    "\n",
    "import matplotlib.pyplot as plt\n",
    "import matplotlib.ticker as ticker\n",
    "import numpy as np\n",
    "import pandas as pd\n",
    "from sklearn.linear_model import LinearRegression\n",
    "from sklearn.metrics import mean_squared_error\n",
    "\n",
    "\n",
    "\n",
    "plt.style.use('fivethirtyeight')\n",
    "plt.rcParams.update({\n",
    "    'figure.figsize': (8, 5),\n",
    "    'figure.subplot.hspace': 0.5,\n",
    "    'figure.titlesize': 'large',\n",
    "    'axes.titlesize': 'medium',\n",
    "    'axes.labelsize': 'small',\n",
    "    'xtick.labelsize': 'xx-small',\n",
    "    'ytick.labelsize': 'xx-small',\n",
    "})"
   ]
  },
  {
   "cell_type": "markdown",
   "metadata": {},
   "source": [
    "## Dataset"
   ]
  },
  {
   "cell_type": "code",
   "execution_count": 276,
   "metadata": {},
   "outputs": [
    {
     "data": {
      "text/html": [
       "<div>\n",
       "<style scoped>\n",
       "    .dataframe tbody tr th:only-of-type {\n",
       "        vertical-align: middle;\n",
       "    }\n",
       "\n",
       "    .dataframe tbody tr th {\n",
       "        vertical-align: top;\n",
       "    }\n",
       "\n",
       "    .dataframe thead th {\n",
       "        text-align: right;\n",
       "    }\n",
       "</style>\n",
       "<table border=\"1\" class=\"dataframe\">\n",
       "  <thead>\n",
       "    <tr style=\"text-align: right;\">\n",
       "      <th></th>\n",
       "      <th>year</th>\n",
       "      <th>avg_milk_cow_number</th>\n",
       "      <th>milk_per_cow</th>\n",
       "      <th>milk_production_lbs</th>\n",
       "      <th>avg_price_milk</th>\n",
       "      <th>dairy_ration</th>\n",
       "      <th>milk_feed_price_ratio</th>\n",
       "      <th>milk_cow_cost_per_animal</th>\n",
       "      <th>milk_volume_to_buy_cow_in_lbs</th>\n",
       "      <th>alfalfa_hay_price</th>\n",
       "      <th>slaughter_cow_price</th>\n",
       "    </tr>\n",
       "  </thead>\n",
       "  <tbody>\n",
       "    <tr>\n",
       "      <th>0</th>\n",
       "      <td>1980.0</td>\n",
       "      <td>10799000.0</td>\n",
       "      <td>11891</td>\n",
       "      <td>1.284060e+11</td>\n",
       "      <td>0.130</td>\n",
       "      <td>0.048374</td>\n",
       "      <td>2.717149</td>\n",
       "      <td>1190</td>\n",
       "      <td>9153.846154</td>\n",
       "      <td>72.000000</td>\n",
       "      <td>0.4573</td>\n",
       "    </tr>\n",
       "    <tr>\n",
       "      <th>1</th>\n",
       "      <td>1981.0</td>\n",
       "      <td>10898000.0</td>\n",
       "      <td>12183</td>\n",
       "      <td>1.327700e+11</td>\n",
       "      <td>0.138</td>\n",
       "      <td>0.050352</td>\n",
       "      <td>2.759031</td>\n",
       "      <td>1200</td>\n",
       "      <td>8695.652174</td>\n",
       "      <td>70.900000</td>\n",
       "      <td>0.4193</td>\n",
       "    </tr>\n",
       "    <tr>\n",
       "      <th>2</th>\n",
       "      <td>1982.0</td>\n",
       "      <td>11011000.0</td>\n",
       "      <td>12306</td>\n",
       "      <td>1.355050e+11</td>\n",
       "      <td>0.136</td>\n",
       "      <td>0.044221</td>\n",
       "      <td>3.088127</td>\n",
       "      <td>1110</td>\n",
       "      <td>8161.764706</td>\n",
       "      <td>72.733333</td>\n",
       "      <td>0.3996</td>\n",
       "    </tr>\n",
       "    <tr>\n",
       "      <th>3</th>\n",
       "      <td>1983.0</td>\n",
       "      <td>11059000.0</td>\n",
       "      <td>12622</td>\n",
       "      <td>1.395880e+11</td>\n",
       "      <td>0.136</td>\n",
       "      <td>0.052350</td>\n",
       "      <td>2.609620</td>\n",
       "      <td>1030</td>\n",
       "      <td>7573.529412</td>\n",
       "      <td>78.700000</td>\n",
       "      <td>0.3935</td>\n",
       "    </tr>\n",
       "    <tr>\n",
       "      <th>4</th>\n",
       "      <td>1984.0</td>\n",
       "      <td>10793000.0</td>\n",
       "      <td>12541</td>\n",
       "      <td>1.353510e+11</td>\n",
       "      <td>0.135</td>\n",
       "      <td>0.053388</td>\n",
       "      <td>2.540000</td>\n",
       "      <td>895</td>\n",
       "      <td>6629.629630</td>\n",
       "      <td>79.483333</td>\n",
       "      <td>0.3981</td>\n",
       "    </tr>\n",
       "  </tbody>\n",
       "</table>\n",
       "</div>"
      ],
      "text/plain": [
       "     year  avg_milk_cow_number  milk_per_cow  milk_production_lbs  \\\n",
       "0  1980.0           10799000.0         11891         1.284060e+11   \n",
       "1  1981.0           10898000.0         12183         1.327700e+11   \n",
       "2  1982.0           11011000.0         12306         1.355050e+11   \n",
       "3  1983.0           11059000.0         12622         1.395880e+11   \n",
       "4  1984.0           10793000.0         12541         1.353510e+11   \n",
       "\n",
       "   avg_price_milk  dairy_ration  milk_feed_price_ratio  \\\n",
       "0           0.130      0.048374               2.717149   \n",
       "1           0.138      0.050352               2.759031   \n",
       "2           0.136      0.044221               3.088127   \n",
       "3           0.136      0.052350               2.609620   \n",
       "4           0.135      0.053388               2.540000   \n",
       "\n",
       "   milk_cow_cost_per_animal  milk_volume_to_buy_cow_in_lbs  alfalfa_hay_price  \\\n",
       "0                      1190                    9153.846154          72.000000   \n",
       "1                      1200                    8695.652174          70.900000   \n",
       "2                      1110                    8161.764706          72.733333   \n",
       "3                      1030                    7573.529412          78.700000   \n",
       "4                       895                    6629.629630          79.483333   \n",
       "\n",
       "   slaughter_cow_price  \n",
       "0               0.4573  \n",
       "1               0.4193  \n",
       "2               0.3996  \n",
       "3               0.3935  \n",
       "4               0.3981  "
      ]
     },
     "execution_count": 276,
     "metadata": {},
     "output_type": "execute_result"
    }
   ],
   "source": [
    "data = pd.read_csv(os.path.join('..', 'data', 'processed', 'milkcow_facts.csv'))\n",
    "\n",
    "data.head()"
   ]
  },
  {
   "cell_type": "code",
   "execution_count": 277,
   "metadata": {},
   "outputs": [
    {
     "name": "stdout",
     "output_type": "stream",
     "text": [
      "<class 'pandas.core.frame.DataFrame'>\n",
      "RangeIndex: 35 entries, 0 to 34\n",
      "Data columns (total 11 columns):\n",
      " #   Column                         Non-Null Count  Dtype  \n",
      "---  ------                         --------------  -----  \n",
      " 0   year                           35 non-null     float64\n",
      " 1   avg_milk_cow_number            35 non-null     float64\n",
      " 2   milk_per_cow                   35 non-null     int64  \n",
      " 3   milk_production_lbs            35 non-null     float64\n",
      " 4   avg_price_milk                 35 non-null     float64\n",
      " 5   dairy_ration                   35 non-null     float64\n",
      " 6   milk_feed_price_ratio          35 non-null     float64\n",
      " 7   milk_cow_cost_per_animal       35 non-null     int64  \n",
      " 8   milk_volume_to_buy_cow_in_lbs  35 non-null     float64\n",
      " 9   alfalfa_hay_price              35 non-null     float64\n",
      " 10  slaughter_cow_price            35 non-null     float64\n",
      "dtypes: float64(9), int64(2)\n",
      "memory usage: 3.1 KB\n"
     ]
    }
   ],
   "source": [
    "data.info()"
   ]
  },
  {
   "cell_type": "markdown",
   "metadata": {},
   "source": [
    "### Data cleansing"
   ]
  },
  {
   "cell_type": "code",
   "execution_count": 278,
   "metadata": {},
   "outputs": [
    {
     "data": {
      "text/html": [
       "<div>\n",
       "<style scoped>\n",
       "    .dataframe tbody tr th:only-of-type {\n",
       "        vertical-align: middle;\n",
       "    }\n",
       "\n",
       "    .dataframe tbody tr th {\n",
       "        vertical-align: top;\n",
       "    }\n",
       "\n",
       "    .dataframe thead th {\n",
       "        text-align: right;\n",
       "    }\n",
       "</style>\n",
       "<table border=\"1\" class=\"dataframe\">\n",
       "  <thead>\n",
       "    <tr style=\"text-align: right;\">\n",
       "      <th></th>\n",
       "      <th>year</th>\n",
       "      <th>avg_milk_cow_number</th>\n",
       "      <th>milk_per_cow</th>\n",
       "      <th>milk_production_lbs</th>\n",
       "      <th>avg_price_milk</th>\n",
       "      <th>dairy_ration</th>\n",
       "      <th>milk_feed_price_ratio</th>\n",
       "      <th>milk_cow_cost_per_animal</th>\n",
       "      <th>milk_volume_to_buy_cow_in_lbs</th>\n",
       "      <th>alfalfa_hay_price</th>\n",
       "      <th>slaughter_cow_price</th>\n",
       "    </tr>\n",
       "  </thead>\n",
       "  <tbody>\n",
       "    <tr>\n",
       "      <th>0</th>\n",
       "      <td>1980</td>\n",
       "      <td>10799000.0</td>\n",
       "      <td>11891</td>\n",
       "      <td>1.284060e+11</td>\n",
       "      <td>0.130</td>\n",
       "      <td>0.048374</td>\n",
       "      <td>2.717149</td>\n",
       "      <td>1190</td>\n",
       "      <td>9153.846154</td>\n",
       "      <td>72.000000</td>\n",
       "      <td>0.4573</td>\n",
       "    </tr>\n",
       "    <tr>\n",
       "      <th>1</th>\n",
       "      <td>1981</td>\n",
       "      <td>10898000.0</td>\n",
       "      <td>12183</td>\n",
       "      <td>1.327700e+11</td>\n",
       "      <td>0.138</td>\n",
       "      <td>0.050352</td>\n",
       "      <td>2.759031</td>\n",
       "      <td>1200</td>\n",
       "      <td>8695.652174</td>\n",
       "      <td>70.900000</td>\n",
       "      <td>0.4193</td>\n",
       "    </tr>\n",
       "    <tr>\n",
       "      <th>2</th>\n",
       "      <td>1982</td>\n",
       "      <td>11011000.0</td>\n",
       "      <td>12306</td>\n",
       "      <td>1.355050e+11</td>\n",
       "      <td>0.136</td>\n",
       "      <td>0.044221</td>\n",
       "      <td>3.088127</td>\n",
       "      <td>1110</td>\n",
       "      <td>8161.764706</td>\n",
       "      <td>72.733333</td>\n",
       "      <td>0.3996</td>\n",
       "    </tr>\n",
       "    <tr>\n",
       "      <th>3</th>\n",
       "      <td>1983</td>\n",
       "      <td>11059000.0</td>\n",
       "      <td>12622</td>\n",
       "      <td>1.395880e+11</td>\n",
       "      <td>0.136</td>\n",
       "      <td>0.052350</td>\n",
       "      <td>2.609620</td>\n",
       "      <td>1030</td>\n",
       "      <td>7573.529412</td>\n",
       "      <td>78.700000</td>\n",
       "      <td>0.3935</td>\n",
       "    </tr>\n",
       "    <tr>\n",
       "      <th>4</th>\n",
       "      <td>1984</td>\n",
       "      <td>10793000.0</td>\n",
       "      <td>12541</td>\n",
       "      <td>1.353510e+11</td>\n",
       "      <td>0.135</td>\n",
       "      <td>0.053388</td>\n",
       "      <td>2.540000</td>\n",
       "      <td>895</td>\n",
       "      <td>6629.629630</td>\n",
       "      <td>79.483333</td>\n",
       "      <td>0.3981</td>\n",
       "    </tr>\n",
       "  </tbody>\n",
       "</table>\n",
       "</div>"
      ],
      "text/plain": [
       "   year  avg_milk_cow_number  milk_per_cow  milk_production_lbs  \\\n",
       "0  1980           10799000.0         11891         1.284060e+11   \n",
       "1  1981           10898000.0         12183         1.327700e+11   \n",
       "2  1982           11011000.0         12306         1.355050e+11   \n",
       "3  1983           11059000.0         12622         1.395880e+11   \n",
       "4  1984           10793000.0         12541         1.353510e+11   \n",
       "\n",
       "   avg_price_milk  dairy_ration  milk_feed_price_ratio  \\\n",
       "0           0.130      0.048374               2.717149   \n",
       "1           0.138      0.050352               2.759031   \n",
       "2           0.136      0.044221               3.088127   \n",
       "3           0.136      0.052350               2.609620   \n",
       "4           0.135      0.053388               2.540000   \n",
       "\n",
       "   milk_cow_cost_per_animal  milk_volume_to_buy_cow_in_lbs  alfalfa_hay_price  \\\n",
       "0                      1190                    9153.846154          72.000000   \n",
       "1                      1200                    8695.652174          70.900000   \n",
       "2                      1110                    8161.764706          72.733333   \n",
       "3                      1030                    7573.529412          78.700000   \n",
       "4                       895                    6629.629630          79.483333   \n",
       "\n",
       "   slaughter_cow_price  \n",
       "0               0.4573  \n",
       "1               0.4193  \n",
       "2               0.3996  \n",
       "3               0.3935  \n",
       "4               0.3981  "
      ]
     },
     "execution_count": 278,
     "metadata": {},
     "output_type": "execute_result"
    }
   ],
   "source": [
    "data['year'] = data['year'].map(int)\n",
    "\n",
    "data.head()"
   ]
  },
  {
   "cell_type": "markdown",
   "metadata": {},
   "source": [
    "## Exploratory Data Analysis"
   ]
  },
  {
   "cell_type": "code",
   "execution_count": 279,
   "metadata": {},
   "outputs": [
    {
     "data": {
      "image/png": "[encoded data removed]",
      "text/plain": [
       "<Figure size 576x360 with 1 Axes>"
      ]
     },
     "metadata": {},
     "output_type": "display_data"
    }
   ],
   "source": [
    "years = data['year'].tolist()\n",
    "year_min = min(years)\n",
    "year_max = max(years)\n",
    "\n",
    "\n",
    "fig, ax = plt.subplots(1, 1)\n",
    "\n",
    "ax.scatter(data['avg_price_milk'], data['avg_milk_cow_number'])\n",
    "ax.set_xlabel('Price')\n",
    "ax.xaxis.set_major_formatter(ticker.StrMethodFormatter('${x:,.2f}'))\n",
    "ax.set_ylabel('Consumption')\n",
    "ax.yaxis.set_major_formatter(ticker.EngFormatter())\n",
    "ax.set_title(f'Milk Price and Consumption {year_min}-{year_max}', loc='left')\n",
    "\n",
    "\n",
    "plt.show()"
   ]
  },
  {
   "cell_type": "code",
   "execution_count": 280,
   "metadata": {},
   "outputs": [
    {
     "data": {
      "image/png": "[encoded data removed]",
      "text/plain": [
       "<Figure size 576x360 with 1 Axes>"
      ]
     },
     "metadata": {},
     "output_type": "display_data"
    }
   ],
   "source": [
    "fig, ax = plt.subplots(1, 1)\n",
    "\n",
    "ax.hist(data['avg_milk_cow_number'])\n",
    "ax.set_xlabel('Consumption')\n",
    "ax.xaxis.set_major_formatter(ticker.EngFormatter())\n",
    "ax.set_title('Milk Consumption Distribution', loc='left')\n",
    "\n",
    "\n",
    "plt.show()"
   ]
  },
  {
   "cell_type": "code",
   "execution_count": 281,
   "metadata": {},
   "outputs": [
    {
     "data": {
      "image/png": "[encoded data removed]",
      "text/plain": [
       "<Figure size 576x360 with 2 Axes>"
      ]
     },
     "metadata": {},
     "output_type": "display_data"
    }
   ],
   "source": [
    "data_viz = data.copy()\n",
    "data_viz['avg_milk_cow_number_ln'] = data_viz['avg_milk_cow_number'].map(lambda x: np.log(x))\n",
    "\n",
    "\n",
    "fig, axs = plt.subplots(2, 1)\n",
    "\n",
    "axs[0].hist(data['avg_milk_cow_number'])\n",
    "axs[0].set_xlabel('Consumption')\n",
    "axs[0].xaxis.set_major_formatter(ticker.EngFormatter())\n",
    "\n",
    "axs[1].hist(data_viz['avg_milk_cow_number_ln'])\n",
    "axs[1].set_xlabel('Consumption (in Log)')\n",
    "\n",
    "fig.suptitle('Milk Consumption Distribution')\n",
    "\n",
    "\n",
    "plt.show()"
   ]
  },
  {
   "cell_type": "markdown",
   "metadata": {},
   "source": [
    "### Model"
   ]
  },
  {
   "cell_type": "markdown",
   "metadata": {},
   "source": [
    "### Data Preprocess"
   ]
  },
  {
   "cell_type": "code",
   "execution_count": 282,
   "metadata": {},
   "outputs": [
    {
     "data": {
      "text/html": [
       "<div>\n",
       "<style scoped>\n",
       "    .dataframe tbody tr th:only-of-type {\n",
       "        vertical-align: middle;\n",
       "    }\n",
       "\n",
       "    .dataframe tbody tr th {\n",
       "        vertical-align: top;\n",
       "    }\n",
       "\n",
       "    .dataframe thead th {\n",
       "        text-align: right;\n",
       "    }\n",
       "</style>\n",
       "<table border=\"1\" class=\"dataframe\">\n",
       "  <thead>\n",
       "    <tr style=\"text-align: right;\">\n",
       "      <th></th>\n",
       "      <th>avg_milk_cow_number_ln</th>\n",
       "      <th>avg_price_milk</th>\n",
       "    </tr>\n",
       "  </thead>\n",
       "  <tbody>\n",
       "    <tr>\n",
       "      <th>0</th>\n",
       "      <td>16.194964</td>\n",
       "      <td>0.130</td>\n",
       "    </tr>\n",
       "    <tr>\n",
       "      <th>1</th>\n",
       "      <td>16.204090</td>\n",
       "      <td>0.138</td>\n",
       "    </tr>\n",
       "    <tr>\n",
       "      <th>2</th>\n",
       "      <td>16.214405</td>\n",
       "      <td>0.136</td>\n",
       "    </tr>\n",
       "    <tr>\n",
       "      <th>3</th>\n",
       "      <td>16.218755</td>\n",
       "      <td>0.136</td>\n",
       "    </tr>\n",
       "    <tr>\n",
       "      <th>4</th>\n",
       "      <td>16.194408</td>\n",
       "      <td>0.135</td>\n",
       "    </tr>\n",
       "  </tbody>\n",
       "</table>\n",
       "</div>"
      ],
      "text/plain": [
       "   avg_milk_cow_number_ln  avg_price_milk\n",
       "0               16.194964           0.130\n",
       "1               16.204090           0.138\n",
       "2               16.214405           0.136\n",
       "3               16.218755           0.136\n",
       "4               16.194408           0.135"
      ]
     },
     "execution_count": 282,
     "metadata": {},
     "output_type": "execute_result"
    }
   ],
   "source": [
    "data_train = data.copy()\n",
    "\n",
    "data_train['avg_milk_cow_number_ln'] = data_train['avg_milk_cow_number'].map(lambda x: np.log(x))\n",
    "data_train = data_train[['avg_milk_cow_number_ln', 'avg_price_milk']]\n",
    "\n",
    "data_train.head()"
   ]
  },
  {
   "cell_type": "code",
   "execution_count": 283,
   "metadata": {},
   "outputs": [],
   "source": [
    "x_columns = ['avg_price_milk']\n",
    "y_column = ['avg_milk_cow_number_ln']\n",
    "\n",
    "x_train = data_train[x_columns]\n",
    "y_train = data_train[y_column]"
   ]
  },
  {
   "cell_type": "markdown",
   "metadata": {},
   "source": [
    "### Model Fitting"
   ]
  },
  {
   "cell_type": "code",
   "execution_count": 284,
   "metadata": {},
   "outputs": [
    {
     "data": {
      "text/plain": [
       "LinearRegression()"
      ]
     },
     "execution_count": 284,
     "metadata": {},
     "output_type": "execute_result"
    }
   ],
   "source": [
    "model = LinearRegression()\n",
    "\n",
    "\n",
    "model.fit(x_train, y_train)"
   ]
  },
  {
   "cell_type": "markdown",
   "metadata": {},
   "source": [
    "### Model Evaluation"
   ]
  },
  {
   "cell_type": "code",
   "execution_count": 285,
   "metadata": {},
   "outputs": [
    {
     "data": {
      "text/plain": [
       "0.06350708525730886"
      ]
     },
     "execution_count": 285,
     "metadata": {},
     "output_type": "execute_result"
    }
   ],
   "source": [
    "y_train_pred = model.predict(x_train)\n",
    "\n",
    "\n",
    "error = mean_squared_error(y_train, y_train_pred, squared=False)\n",
    "error"
   ]
  },
  {
   "cell_type": "code",
   "execution_count": 286,
   "metadata": {},
   "outputs": [
    {
     "data": {
      "image/png": "[encoded data removed]",
      "text/plain": [
       "<Figure size 576x360 with 1 Axes>"
      ]
     },
     "metadata": {},
     "output_type": "display_data"
    }
   ],
   "source": [
    "data_train['prediction'] = y_train_pred\n",
    "\n",
    "\n",
    "fig, ax = plt.subplots(1, 1)\n",
    "\n",
    "ax.scatter(data_train['avg_price_milk'], data_train['avg_milk_cow_number_ln'])\n",
    "ax.plot(data_train['avg_price_milk'], data_train['prediction'], color='black', linewidth=1, linestyle='dashed')\n",
    "ax.set_xlabel('Price')\n",
    "ax.xaxis.set_major_formatter(ticker.StrMethodFormatter('${x:,.2f}'))\n",
    "ax.set_ylabel('Consumption (in Log)')\n",
    "ax.yaxis.set_major_formatter(ticker.EngFormatter())\n",
    "ax.set_title(f'Milk Price and Consumption {year_min}-{year_max}', loc='left')\n",
    "\n",
    "\n",
    "plt.show()"
   ]
  }
 ],
 "metadata": {
  "interpreter": {
   "hash": "3fd0ca9efaa8cb8740823c23407050ddef0aab3a29ee52edb559a817bb803e22"
  },
  "kernelspec": {
   "display_name": "Python 3.8.12 ('tidytuesday_2019-01-29')",
   "language": "python",
   "name": "python3"
  },
  "language_info": {
   "codemirror_mode": {
    "name": "ipython",
    "version": 3
   },
   "file_extension": ".py",
   "mimetype": "text/x-python",
   "name": "python",
   "nbconvert_exporter": "python",
   "pygments_lexer": "ipython3",
   "version": "3.8.12"
  },
  "orig_nbformat": 4
 },
 "nbformat": 4,
 "nbformat_minor": 2
}
